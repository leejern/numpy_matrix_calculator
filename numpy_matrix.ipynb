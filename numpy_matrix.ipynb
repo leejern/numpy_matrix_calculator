{
 "cells": [
  {
   "cell_type": "code",
   "execution_count": 1,
   "id": "c6448788-5bb9-4f7b-8337-00c2ee7cf9b3",
   "metadata": {},
   "outputs": [],
   "source": [
    "import numpy as np"
   ]
  },
  {
   "cell_type": "code",
   "execution_count": 53,
   "id": "09519834-7ba2-44eb-bf27-a6fc99f64634",
   "metadata": {},
   "outputs": [],
   "source": [
    "# Function: Add two matrices\n",
    "def add_matrix(A, B):\n",
    "    return np.array(A) + np.array(B)"
   ]
  },
  {
   "cell_type": "code",
   "execution_count": 54,
   "id": "3df5df3e-b2e8-4dcc-bdab-71c8b5a974d7",
   "metadata": {},
   "outputs": [],
   "source": [
    "# Function: Subtract matrix B from matrix A\n",
    "def sub_matrix(A, B):\n",
    "    return np.array(A) - np.array(B)"
   ]
  },
  {
   "cell_type": "code",
   "execution_count": 55,
   "id": "329d83e0-2090-4a12-b69d-ef548755e6f9",
   "metadata": {},
   "outputs": [],
   "source": [
    "# Function: Multiply two matrices (dot product)\n",
    "def multi_matrix(A, B):\n",
    "    return np.dot(np.array(A), np.array(B))  "
   ]
  },
  {
   "cell_type": "code",
   "execution_count": 56,
   "id": "b7d3b3ad-32f0-495a-b1b4-97c09a2a65bd",
   "metadata": {},
   "outputs": [],
   "source": [
    "# Function: Transpose a matrix\n",
    "def transpose_matrix(A):\n",
    "    return np.array(A).T    "
   ]
  },
  {
   "cell_type": "code",
   "execution_count": 57,
   "id": "5ad747ea-5acb-40c1-afb0-f1496d70e048",
   "metadata": {},
   "outputs": [],
   "source": [
    "# Function: Compute the determinant of a matrix\n",
    "def deter_matrix(A):\n",
    "    return np.linalg.det(np.array(A))"
   ]
  },
  {
   "cell_type": "code",
   "execution_count": 58,
   "id": "d6bac904-833d-41cd-8284-501781bf9747",
   "metadata": {},
   "outputs": [],
   "source": [
    "# Function: Compute the inverse of a matrix (if invertible)\n",
    "def inverse_matrix(A):\n",
    "    try:\n",
    "        return np.linalg.inv(np.array(A))  # Attempt to compute inverse\n",
    "    except np.linalg.LinAlgError:\n",
    "        print(\"Matrix is not invertible (singular matrix).\")\n",
    "        return None  # Return None if not invertible"
   ]
  },
  {
   "cell_type": "code",
   "execution_count": 60,
   "id": "c0d3f1c7-4a0a-44ec-85a8-94b564d0fa28",
   "metadata": {},
   "outputs": [],
   "source": [
    "# Function: Matrix calculator CLI\n",
    "def matrix_cli():\n",
    "    # Step 1: Get matrix dimensions from the user\n",
    "    rows = int(input(\"Enter number of rows: \"))\n",
    "    cols = int(input(\"Enter number of columns: \"))\n",
    "\n",
    "    A, B = [], []  # Initialize matrices A and B as empty lists\n",
    "\n",
    "    # Step 2: Get values for Matrix A\n",
    "    print(\"Enter values for matrix A:\")\n",
    "    for i in range(rows):\n",
    "        row = [float(input(f\"Enter A[{i}][{j}]: \")) for j in range(cols)]\n",
    "        A.append(row)\n",
    "\n",
    "    # Step 3: Get values for Matrix B\n",
    "    print(\"Enter values for matrix B:\")\n",
    "    for i in range(rows):\n",
    "        row = [float(input(f\"Enter B[{i}][{j}]: \")) for j in range(cols)]\n",
    "        B.append(row)\n",
    "\n",
    "    # Step 4: Display the input matrices\n",
    "    print(\"\\nMatrix A:\\n\", np.array(A))\n",
    "    print(\"Matrix B:\\n\", np.array(B))\n",
    "    print(\"-\" * 70)\n",
    "\n",
    "    # Step 5: Perform and display results of basic matrix operations\n",
    "    print(\"A + B:\\n\", add_matrix(A, B))\n",
    "    print(\"A - B:\\n\", sub_matrix(A, B))\n",
    "    print(\"A * B:\\n\", multi_matrix(A, B))\n",
    "\n",
    "    print(\"-\" * 70)\n",
    "\n",
    "    # Step 6: Display transposed matrices\n",
    "    print(\"Transpose of A:\\n\", transpose_matrix(A))\n",
    "    print(\"Transpose of B:\\n\", transpose_matrix(B))\n",
    "\n",
    "    # Step 7: Only compute determinant and inverse if the matrices are square\n",
    "    if rows == cols:\n",
    "        print(\"-\" * 70)\n",
    "        print(\"Determinant of A:\", round(deter_matrix(A), 2))\n",
    "        print(\"Determinant of B:\", round(deter_matrix(B), 2))\n",
    "\n",
    "        print(\"-\" * 70)\n",
    "        invA = inverse_matrix(A)\n",
    "        invB = inverse_matrix(B)\n",
    "\n",
    "        # Step 8: Display inverses if they exist\n",
    "        if invA is not None:\n",
    "            print(\"Inverse of A:\\n\", np.round(invA, 2))\n",
    "        if invB is not None:\n",
    "            print(\"Inverse of B:\\n\", np.round(invB, 2))\n",
    "    else:\n",
    "        print(\"-\" * 70)\n",
    "        print(\"Skipping inverse and determinant: matrices are not square.\")\n",
    "\n",
    "# Run the matrix calculator\n",
    "matrix_cli()"
   ]
  },
  {
   "cell_type": "code",
   "execution_count": null,
   "id": "7684b56e-48d0-4bd9-8005-fe43ae1910b7",
   "metadata": {},
   "outputs": [],
   "source": []
  }
 ],
 "metadata": {
  "kernelspec": {
   "display_name": "Python [conda env:base] *",
   "language": "python",
   "name": "conda-base-py"
  },
  "language_info": {
   "codemirror_mode": {
    "name": "ipython",
    "version": 3
   },
   "file_extension": ".py",
   "mimetype": "text/x-python",
   "name": "python",
   "nbconvert_exporter": "python",
   "pygments_lexer": "ipython3",
   "version": "3.12.7"
  }
 },
 "nbformat": 4,
 "nbformat_minor": 5
}
